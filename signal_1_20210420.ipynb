{
  "nbformat": 4,
  "nbformat_minor": 0,
  "metadata": {
    "colab": {
      "name": "signal_1",
      "provenance": [],
      "collapsed_sections": [],
      "authorship_tag": "ABX9TyO2xWT+xm8lXQhM7RTMaYPo",
      "include_colab_link": true
    },
    "kernelspec": {
      "name": "python3",
      "display_name": "Python 3"
    },
    "language_info": {
      "name": "python"
    }
  },
  "cells": [
    {
      "cell_type": "markdown",
      "metadata": {
        "id": "view-in-github",
        "colab_type": "text"
      },
      "source": [
        "<a href=\"https://colab.research.google.com/github/htygithub/SandS/blob/master/signal_1_20210420.ipynb\" target=\"_parent\"><img src=\"https://colab.research.google.com/assets/colab-badge.svg\" alt=\"Open In Colab\"/></a>"
      ]
    },
    {
      "cell_type": "code",
      "metadata": {
        "id": "5m-s0uypE0Jk"
      },
      "source": [
        "import numpy as np\n",
        "import matplotlib.pyplot as plt\n",
        "x=np.array([0.,0,0,2,4,6,4,2,0,0,0])\n",
        "plt.stem(x)"
      ],
      "execution_count": null,
      "outputs": []
    },
    {
      "cell_type": "code",
      "metadata": {
        "id": "9O4xxH9cF9b1"
      },
      "source": [
        "y=x*0\n",
        "for ii in range(len(x)-2):\n",
        "    y[ii]=1/3*(x[ii]+x[ii+1]+x[ii+2])\n",
        "    print(y[ii])"
      ],
      "execution_count": null,
      "outputs": []
    },
    {
      "cell_type": "code",
      "metadata": {
        "id": "kcEyooS3GF70"
      },
      "source": [
        "plt.subplot(211)\n",
        "plt.stem(x)\n",
        "plt.subplot(212)\n",
        "plt.stem(y)"
      ],
      "execution_count": null,
      "outputs": []
    },
    {
      "cell_type": "code",
      "metadata": {
        "id": "mbNgJXacE7I3"
      },
      "source": [
        "import numpy as np\n",
        "import matplotlib.pyplot as plt\n",
        "n=np.arange(100)\n",
        "w_hat=0.5\n",
        "x_n=np.exp(1.0j*w_hat*n)\n",
        "x_n_1=np.exp(1j*w_hat*(n-1))\n",
        "x_n_2=np.exp(1j*w_hat*(n-2))\n",
        "y=(x_n+x_n_1+x_n_2)/3\n",
        "\n",
        "plt.figure(figsize=(15,5), dpi=300)\n",
        "plt.plot(np.real(x_n),'r*-')\n",
        "plt.plot(np.real(x_n_1),'go-')\n",
        "plt.plot(np.real(x_n_2),'b*-')\n",
        "\n",
        "\n",
        "plt.figure(figsize=(15,5), dpi=300)\n",
        "plt.plot(np.real(x_n),'r*-')\n",
        "plt.plot(np.real(y),'b*-')\n",
        "print(\"Amplitude: %f\" % np.abs(y)[0])"
      ],
      "execution_count": null,
      "outputs": []
    },
    {
      "cell_type": "code",
      "metadata": {
        "id": "tYK_KmUtFXJS"
      },
      "source": [
        "\n"
      ],
      "execution_count": null,
      "outputs": []
    },
    {
      "cell_type": "code",
      "metadata": {
        "id": "EIQpInFVHBPl"
      },
      "source": [
        "ii=0\n",
        "\n",
        "for w_hat in np.arange(-np.pi*4,np.pi*4,0.1):\n",
        "    x_n=np.exp(1j*w_hat*n)\n",
        "    x_n_1=np.exp(1j*w_hat*(n-1))\n",
        "    x_n_2=np.exp(1j*w_hat*(n-2))\n",
        "    y=(x_n*1/3+x_n_1*1/3+x_n_2*1/3)\n",
        "    #y=(x_n-x_n_1)\n",
        "    if ii==0:\n",
        "        w_hat_all=np.array(w_hat)\n",
        "        y_abs=np.array(np.abs(y)[0])\n",
        "    else:\n",
        "        w_hat_all=np.append(w_hat_all,w_hat)\n",
        "        y_abs=np.append(y_abs,np.abs(y)[0])\n",
        " \n",
        "    ii+=1\n",
        "plt.figure(figsize=(12,5), dpi=150)\n",
        "plt.plot(w_hat_all,y_abs)"
      ],
      "execution_count": null,
      "outputs": []
    },
    {
      "cell_type": "code",
      "metadata": {
        "id": "WYosfHzSH_42"
      },
      "source": [
        ""
      ],
      "execution_count": null,
      "outputs": []
    }
  ]
}